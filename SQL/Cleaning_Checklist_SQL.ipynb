{
 "cells": [
  {
   "cell_type": "markdown",
   "id": "e6441fc2",
   "metadata": {},
   "source": [
    "## SQL Cleaning Checklist\n",
    "All functions using Standard SQL unless otherwise notated "
   ]
  },
  {
   "cell_type": "markdown",
   "id": "35d9b7c2",
   "metadata": {},
   "source": [
    "1. Column Profiling\n",
    "2. Missing Data\n",
    "3. Duplicate Data\n",
    "4. Correct Data Types\n",
    "5. Numeric Data\n",
    "6. Text Data\n",
    "7. Date and Time Data\n",
    "8. Categorical Data\n",
    "9. Verify"
   ]
  },
  {
   "cell_type": "markdown",
   "id": "5948979d",
   "metadata": {},
   "source": [
    "Column Profiling"
   ]
  },
  {
   "cell_type": "code",
   "execution_count": null,
   "id": "ab8ef1cd",
   "metadata": {
    "vscode": {
     "languageId": "sql"
    }
   },
   "outputs": [],
   "source": [
    "-- Numeric Column\n",
    "SELECT \n",
    "COUNT(*) AS row_count, COUNT(product_id) AS non_null_count, \n",
    "(COUNT(*) - COUNT(product_id)) AS null_count, COUNT(distinct product_id) AS distinct_count, \n",
    "MIN(product_id) AS column_min, MAX(product_id) AS column_max, ROUND(AVG(product_id),2) AS column_mean\n",
    "FROM your_table_name\n",
    "----------------------------------------------------------------------------------------\n",
    "-- VARCHAR Column\n",
    "SELECT \n",
    "COUNT(*) AS row_count, COUNT(product_name) AS non_null_count, \n",
    "(COUNT(*) - COUNT(product_name)) AS null_count, COUNT(distinct product_name) AS distinct_count, \n",
    "MIN(CHAR_LENGTH(product_name)) AS column_len_min, MAX(CHAR_LENGTH(product_name)) AS column_len_max \n",
    "FROM your_table_name"
   ]
  },
  {
   "cell_type": "markdown",
   "id": "535b02c4",
   "metadata": {
    "vscode": {
     "languageId": "sql"
    }
   },
   "source": [
    "Missing Data"
   ]
  },
  {
   "cell_type": "code",
   "execution_count": null,
   "id": "04aa9e9b",
   "metadata": {
    "vscode": {
     "languageId": "sql"
    }
   },
   "outputs": [],
   "source": [
    "-- Identify NULLs (from above)\n",
    "SELECT \n",
    "COUNT(*) AS row_count, COUNT(product_name) AS non_null_count, (COUNT(*) - COUNT(product_name)) AS null_count\n",
    "FROM your_table_name\n",
    "----------------------------------------------------------------------------------------\n",
    "-- Impute NULLs with default value, similar imputation with AVERAGE(), median, or mode\n",
    "SELECT\n",
    "    COALESCE(string_column, 'N/A') AS cleaned_string_column,\n",
    "    COALESCE(numeric_column, 0) AS cleaned_numeric_column,\n",
    "    COALESCE(boolean_column, FALSE) AS cleaned_boolean_column,\n",
    "    COALESCE(date_column, PARSE_DATE('%Y-%m-%d', '1900-01-01')) AS cleaned_date_column, -- PARSE_DATE is a non-standard SQL function (e.g., BigQuery)\n",
    "FROM\n",
    "    your_table_name;\n",
    "----------------------------------------------------------------------------------------\n",
    "-- Flag a column has NULL value by creating a separate binary flag column\n",
    "SELECT \n",
    "    column_1,\n",
    "    CASE WHEN column_1 IS NULL THEN 0 ELSE 1 END AS null_flag\n",
    "FROM   \n",
    "    your_table_name;\n",
    "----------------------------------------------------------------------------------------\n",
    "-- Remove Rows with Excessive NULLs (if imputation is not suitable)\n",
    "SELECT *\n",
    "FROM\n",
    "    your_table_name\n",
    "WHERE\n",
    "    column_name_1 IS NOT NULL\n",
    "    AND column_name_2 IS NOT NULL\n",
    "    AND column_name_3 IS NOT NULL; "
   ]
  },
  {
   "cell_type": "markdown",
   "id": "d88e4f55",
   "metadata": {},
   "source": [
    "Duplicate Data"
   ]
  },
  {
   "cell_type": "code",
   "execution_count": null,
   "id": "06ece0e1",
   "metadata": {
    "vscode": {
     "languageId": "sql"
    }
   },
   "outputs": [],
   "source": [
    "/*\"Unique\": That row or combination of columns only appearing once in the dataset. This implies there are no other duplicate instances of that specific row or combination.\n",
    "\"Distinct\": One value from each group, including truly unique values. This means if a combination appears 5 times, you get one instance of it. If it appears 1 time (truly unique), you also get that one instance.*/\n",
    "\n",
    "/* \n",
    "Option 1 - Unique and Distinct row/combinations with GROUP BY \n",
    "- [PREMIUM] Value Distribution AND\n",
    "- [PREMIUM] Truly unique rows, appearing only once in data set AND\n",
    "- Be able to customize \"uniqueness\" and \"distinctness\" by selecting combinations OR\n",
    "- Entirely distinct Rows \n",
    "*/\n",
    "\n",
    "SELECT\n",
    "    colA,\n",
    "    colB,\n",
    "    colC,\n",
    "    COUNT(*) AS group_count\n",
    "FROM\n",
    "    your_table_name\n",
    "GROUP BY\n",
    "    colA,\n",
    "    colB,\n",
    "    colC\n",
    "-- HAVING COUNT(*) = 1\n",
    "ORDER BY group_count ASC;\n",
    "----------------------------------------------------------------------------------------\n",
    "/* \n",
    "Option 2 - Ordered, distinct row/combinations with ROW_NUMBER()\n",
    "- [PREMIUM] Be able to select all columns from the table AND\n",
    "- [PREMIUM] Be able to choose which row to keep if there are duplicates such as the most recent occurrence AND \n",
    "- Be able to customize \"distinctness\" by selecting distinct combinations OR\n",
    "- Entirely distinct rows \n",
    "*/\n",
    "\n",
    "WITH subquery_alias AS \n",
    "    (\n",
    "        SELECT\n",
    "            *, -- Or list all relevant columns\n",
    "            ROW_NUMBER() OVER (PARTITION BY colA, colB, colC /* ... columns defining \"distinctness\" */ ORDER BY (colA DESC)) as rn\n",
    "            -- ORDER BY clause: pick most recent, last, etc with ASC/DESC\n",
    "        FROM\n",
    "            your_table_name\n",
    "    )\n",
    "SELECT\n",
    "    colA,\n",
    "    colB,\n",
    "    colC\n",
    "FROM subquery_alias\n",
    "WHERE\n",
    "    rn = 1; -- > 1 for just duplicates\n",
    "\n",
    "----------------------------------------------------------------------------------------\n",
    "/* \n",
    "Option 3 - Identify dupes while retaining all rows with COUNT(*) OVER(PARTITION BY...) \n",
    "- [PREMIUM] Calculations between rows and groups (like % frequency)\n",
    "- [PREMIUM] Be able to filter rows based on group properties\n",
    "- [PREMIUM] Be able to select all columns from the table AND\n",
    "- Be able to customize \"uniqueness\" by selecting combinations\n",
    "- Add ORDER BY to get running counts/other aggregates (limitation: groups ties together)\n",
    "*/\n",
    "\n",
    "WITH SubQueryAlias AS\n",
    "(\n",
    "    SELECT\n",
    "        *,\n",
    "        COUNT(*) OVER(PARTITION BY colA) AS colA_count,\n",
    "        COUNT(*) OVER(PARTITION BY colB) AS colB_count\n",
    "    FROM your_table_name\n",
    ") \n",
    "SELECT \n",
    "    colA, colB, colC\n",
    "FROM\n",
    "    SubQueryAlias\n",
    "WHERE \n",
    "    colA_2015_count > 1 AND colB_count = 1;\n"
   ]
  },
  {
   "cell_type": "markdown",
   "id": "8217e5d4",
   "metadata": {},
   "source": [
    "Data Type Conversion"
   ]
  },
  {
   "cell_type": "code",
   "execution_count": null,
   "id": "0d71d7d0",
   "metadata": {
    "vscode": {
     "languageId": "sql"
    }
   },
   "outputs": [],
   "source": [
    "SELECT\n",
    "    CAST(string_as_int_column AS INTEGER) AS converted_int_column,\n",
    "    CAST(string_as_float_column AS FLOAT) AS converted_float_column,\n",
    "    CAST(numeric_as_boolean_column AS BOOLEAN) AS converted_boolean_column, -- 0:FALSE, 1:TRUE.\n",
    "    SAFE.PARSE_DATE('%Y-%m-%d', string_as_date_column) AS converted_date_column, -- SAFE.PARSE_DATE: GoogleSQL\n",
    "    SAFE.PARSE_TIMESTAMP('%Y-%m-%d %H:%M:%S', string_as_timestamp_column) AS converted_timestamp_column -- SAFE.PARSE_TIMESTAMP: GoogleSQL\n",
    "FROM\n",
    "    your_table_name;"
   ]
  },
  {
   "cell_type": "markdown",
   "id": "0cdd5a77",
   "metadata": {},
   "source": [
    "Numeric Data"
   ]
  },
  {
   "cell_type": "code",
   "execution_count": null,
   "id": "94f67b9c",
   "metadata": {
    "vscode": {
     "languageId": "sql"
    }
   },
   "outputs": [],
   "source": [
    "-- Assign NULL to negative values that shouldn't be negative, like age\n",
    "-- Assign a floor or ceiling value past a threshold. The threshold could be a percentile using PERCENTILE_CONT()\n",
    "SELECT\n",
    "    CASE\n",
    "        WHEN age_column < 0 THEN NULL ELSE age_column END AS cleaned_age_column,\n",
    "FROM\n",
    "    your_table_name;\n",
    "\n",
    "----------------------------------------------------------------------------------------\n",
    "-- Removing Outliers above or below percentiles\n",
    "WITH PercentileBounds AS \n",
    "(\n",
    "    SELECT\n",
    "        PERCENTILE_CONT(0.05) WITHIN GROUP (ORDER BY numeric_column) OVER () AS lower_bound,\n",
    "        PERCENTILE_CONT(0.95) WITHIN GROUP (ORDER BY numeric_column) OVER () AS upper_bound\n",
    "    FROM\n",
    "        your_table_name\n",
    "    WHERE\n",
    "        numeric_column IS NOT NULL -- Percentile_CONT typically ignore NULLs, explicit filtering anyway                                 \n",
    ")\n",
    "SELECT\n",
    "    t.id,\n",
    "    t.numeric_column\n",
    "FROM\n",
    "    your_table_name AS t \n",
    "CROSS JOIN \n",
    "    PercentileBounds AS pb -- join single-row result to all rows of main table with cross-join\n",
    "WHERE\n",
    "    t.numeric_column >= pb.lower_bound\n",
    "    AND t.numeric_column <= pb.upper_bound;"
   ]
  },
  {
   "cell_type": "markdown",
   "id": "896ee39e",
   "metadata": {},
   "source": [
    "Text Data"
   ]
  },
  {
   "cell_type": "code",
   "execution_count": null,
   "id": "21a97ef7",
   "metadata": {
    "vscode": {
     "languageId": "sql"
    }
   },
   "outputs": [],
   "source": [
    "-- Remove leading, trailing, or excessive internal whitespace\n",
    "SELECT\n",
    "    TRIM(string_column) AS trimmed_string, -- leading and trailing whitespace\n",
    "    REGEXP_REPLACE(string_column, r'\\s+', ' ') AS single_space_string -- Replace multiple spaces \\s+ with single, not used in T-SQL\n",
    "FROM\n",
    "    your_table_name;\n",
    "----------------------------------------------------------------------------------------\n",
    "-- Standardize Case into Upper/Lower/Proper \n",
    "SELECT\n",
    "    UPPER(string_column) AS uppercase_string,\n",
    "    LOWER(string_column) AS lowercase_string,\n",
    "    -- For proper case (first letter capitalized, rest lowercase)\n",
    "    CONCAT(UPPER(SUBSTR(string_column, 1, 1)), LOWER(SUBSTR(string_column, 2))) AS proper_case_string -- SUBSTR is a non-standard SQL function (e.g., MySQL, PostgreSQL, BigQuery)\n",
    "FROM\n",
    "    your_table_name;\n",
    "----------------------------------------------------------------------------------------\n",
    "-- Remove Non-Alphanumeric Characters, Keep only letters, numbers, and spaces\n",
    "SELECT\n",
    "    REGEXP_REPLACE(string_column, r'[^a-zA-Z0-9\\s]', '') AS alphanumeric_only_string, -- REGEXP_REPLACE is a non-standard SQL function (e.g., PostgreSQL, BigQuery), english characters only\n",
    "    \n",
    "    REGEXP_REPLACE(string_column, r'[^\\p{L}\\p{N}\\s]', '') AS unicode_alphanumeric_only_string -- REGEXP_REPLACE and \\p{L}, \\p{N} are non-standard SQL functions/regex features (e.g., BigQuery), international character friendly\n",
    "FROM\n",
    "    your_table_name;\n",
    "----------------------------------------------------------------------------------------"
   ]
  },
  {
   "cell_type": "markdown",
   "id": "8e0de7cb",
   "metadata": {},
   "source": [
    "Date and Time Data"
   ]
  },
  {
   "cell_type": "code",
   "execution_count": null,
   "id": "96ccdf5a",
   "metadata": {
    "vscode": {
     "languageId": "sql"
    }
   },
   "outputs": [],
   "source": [
    "-- Handle multiple date formats using CASE\n",
    "-- SAFE.PARSE_DATE is a non-standard SQL function (e.g., BigQuery)\n",
    "-- ISO 8601 Date Only YYYY-MM-DD\n",
    "\n",
    "SELECT\n",
    "    CASE\n",
    "        -- Format 1: YYYY-MM-DD\n",
    "        WHEN SAFE.PARSE_DATE('%Y-%m-%d', mixed_date_string) IS NOT NULL\n",
    "            THEN SAFE.PARSE_DATE('%Y-%m-%d', mixed_date_string)\n",
    "        -- Format 2: MM-DD-YYYY\n",
    "        WHEN SAFE.PARSE_DATE('%m-%d-%Y', mixed_date_string) IS NOT NULL\n",
    "            THEN SAFE.PARSE_DATE('%m-%d-%Y', mixed_date_string)\n",
    "        -- Format 3: DD-MM-YYYY\n",
    "        WHEN SAFE.PARSE_DATE('%d-%m-%Y', mixed_date_string) IS NOT NULL\n",
    "            THEN SAFE.PARSE_DATE('%d-%m-%Y', mixed_date_string)\n",
    "        -- Format 4: YYYY/MM/DD\n",
    "        WHEN SAFE.PARSE_DATE('%Y/%m/%d', mixed_date_string) IS NOT NULL\n",
    "            THEN SAFE.PARSE_DATE('%Y/%m/%d', mixed_date_string)\n",
    "        -- Format 5: MM/DD/YYYY\n",
    "        WHEN SAFE.PARSE_DATE('%m/%d/%Y', mixed_date_string) IS NOT NULL\n",
    "            THEN SAFE.PARSE_DATE('%m/%d/%Y', mixed_date_string)\n",
    "        -- Format 6: DD/MM/YYYY\n",
    "        WHEN SAFE.PARSE_DATE('%d/%m/%Y', mixed_date_string) IS NOT NULL\n",
    "            THEN SAFE.PARSE_DATE('%d/%m/%Y', mixed_date_string)\n",
    "        ELSE NULL -- If none of the above formats match\n",
    "    END AS robust_date_parsing\n",
    "FROM\n",
    "    your_table_name;\n",
    "----------------------------------------------------------------------------------------\n",
    "-- Handle multiple timestamp formats using CASE\n",
    "-- SAFE.PARSE_TIMESTAMP is a non-standard SQL function (e.g., BigQuery)\n",
    "-- ISO 8601 Timestamp Only YYYY-MM-DD HH:MM:SS\n",
    "\n",
    "SELECT\n",
    "    CASE\n",
    "        -- Format 1: YYYY-MM-DD HH:MI:SS\n",
    "        WHEN SAFE.PARSE_TIMESTAMP('%Y-%m-%d %H:%M:%S', mixed_timestamp_string) IS NOT NULL\n",
    "            THEN SAFE.PARSE_TIMESTAMP('%Y-%m-%d %H:%M:%S', mixed_timestamp_string)\n",
    "        -- Format 2: MM-DD-YYYY HH:MI:SS\n",
    "        WHEN SAFE.PARSE_TIMESTAMP('%m-%d-%Y %H:%M:%S', mixed_timestamp_string) IS NOT NULL\n",
    "            THEN SAFE.PARSE_TIMESTAMP('%m-%d-%Y %H:%M:%S', mixed_timestamp_string)\n",
    "        -- Format 3: DD-MM-YYYY HH:MI:SS\n",
    "        WHEN SAFE.PARSE_TIMESTAMP('%d-%m-%Y %H:%M:%S', mixed_timestamp_string) IS NOT NULL\n",
    "            THEN SAFE.PARSE_TIMESTAMP('%d-%m-%Y %H:%M:%S', mixed_timestamp_string)\n",
    "        -- Format 4: YYYY/MM/DD HH:MI:SS\n",
    "        WHEN SAFE.PARSE_TIMESTAMP('%Y/%m/%d %H:%M:%S', mixed_timestamp_string) IS NOT NULL\n",
    "            THEN SAFE.PARSE_TIMESTAMP('%Y/%m/%d %H:%M:%S', mixed_timestamp_string)\n",
    "        -- Format 5: MM/DD/YYYY HH:MI:SS\n",
    "        WHEN SAFE.PARSE_TIMESTAMP('%m/%d/%Y %H:%M:%S', mixed_timestamp_string) IS NOT NULL\n",
    "            THEN SAFE.PARSE_TIMESTAMP('%m/%d/%Y %H:%M:%S', mixed_timestamp_string)\n",
    "        -- Format 6: DD/MM/YYYY HH:MI:SS\n",
    "        WHEN SAFE.PARSE_TIMESTAMP('%d/%m/%Y %H:%M:%S', mixed_timestamp_string) IS NOT NULL\n",
    "            THEN SAFE.PARSE_TIMESTAMP('%d/%m/%Y %H:%M:%S', mixed_timestamp_string)\n",
    "        ELSE NULL -- If none of the above formats match\n",
    "    END AS robust_timestamp_parsing\n",
    "FROM\n",
    "    your_table_name;\n",
    "\n",
    "----------------------------------------------------------------------------------------\n",
    "-- Extracting parts from a DATE\n",
    "SELECT\n",
    "    EXTRACT(YEAR FROM date_column) AS invoice_year,\n",
    "    EXTRACT(MONTH FROM date_column) AS invoice_month,\n",
    "    EXTRACT(DAY FROM date_column) AS invoice_day,\n",
    "    EXTRACT(WEEK FROM date_column) AS week_of_year,\n",
    "    EXTRACT(QUARTER FROM date_column) AS quarter_of_year\n",
    "FROM\n",
    "    my_invoices;\n",
    "\n",
    "----------------------------------------------------------------------------------------\n",
    "-- Extracting parts from a TIMESTAMP\n",
    "SELECT\n",
    "    EXTRACT(YEAR FROM timestamp_column) AS event_year,\n",
    "    EXTRACT(MONTH FROM timestamp_column) AS event_month,\n",
    "    EXTRACT(DAY FROM timestamp_column) AS event_day,\n",
    "    EXTRACT(HOUR FROM timestamp_column) AS event_hour,\n",
    "    EXTRACT(MINUTE FROM timestamp_column) AS event_minute,\n",
    "    EXTRACT(SECOND FROM timestamp_column) AS event_second_with_fractions,\n",
    "    EXTRACT(WEEK FROM timestamp_column) AS event_week,\n",
    "    EXTRACT(QUARTER FROM timestamp_column) AS event_quarter\n",
    "FROM\n",
    "    my_events;"
   ]
  },
  {
   "cell_type": "markdown",
   "id": "d7ebf472",
   "metadata": {},
   "source": [
    "Categorical Data"
   ]
  },
  {
   "cell_type": "code",
   "execution_count": null,
   "id": "d24e3800",
   "metadata": {
    "vscode": {
     "languageId": "sql"
    }
   },
   "outputs": [],
   "source": [
    "-- Correct Inconsistent Categorical Values (Mapping/Standardization)\n",
    "SELECT\n",
    "    CASE\n",
    "        WHEN country_column IN ('USA', 'U.S.A.', 'United States') THEN 'United States'\n",
    "        WHEN country_column IN ('UK', 'U.K.', 'United Kingdom') THEN 'United Kingdom'\n",
    "        ELSE country_column\n",
    "    END AS standardized_country\n",
    "FROM\n",
    "    your_table_name;\n",
    "----------------------------------------------------------------------------------------\n",
    "-- Ensure boolean values are consistently represented (e.g., TRUE/FALSE, 1/0)\n",
    "SELECT\n",
    "    id,\n",
    "    CASE\n",
    "        WHEN is_active_column IN ('true', '1', 'yes') THEN TRUE\n",
    "        WHEN is_active_column IN ('false', '0', 'no') THEN FALSE\n",
    "        ELSE NULL -- Or a default boolean value\n",
    "    END AS standardized_is_active\n",
    "FROM\n",
    "    your_table_name;\n"
   ]
  },
  {
   "cell_type": "markdown",
   "id": "61d6a3c7",
   "metadata": {},
   "source": [
    "Verify"
   ]
  },
  {
   "cell_type": "code",
   "execution_count": null,
   "id": "214e5c85",
   "metadata": {
    "vscode": {
     "languageId": "sql"
    }
   },
   "outputs": [],
   "source": [
    "-- Ranges of numeric or data values \n",
    "SELECT\n",
    "    *\n",
    "FROM\n",
    "    your_table_name\n",
    "WHERE\n",
    "    age_column BETWEEN 0 AND 120 -- Age must be between 0 and 120\n",
    "    AND price_column >= 0; -- Price cannot be negative\n",
    "----------------------------------------------------------------------------------------\n",
    "-- Unique & Distinct Values \n",
    "SELECT\n",
    "    colA,\n",
    "    colB,\n",
    "    colC,\n",
    "    COUNT(*) AS group_count\n",
    "FROM\n",
    "    your_table_name\n",
    "GROUP BY\n",
    "    colA,\n",
    "    colB,\n",
    "    colC\n",
    "-- HAVING COUNT(*) = 1\n",
    "ORDER BY group_count ASC;\n",
    "----------------------------------------------------------------------------------------\n",
    "-- Referential Integrity: ensure every foreign key record has a matching primary key in the primary table\n",
    "SELECT\n",
    "    ct.*\n",
    "FROM\n",
    "    child_table ct\n",
    "LEFT JOIN\n",
    "    parent_table pt ON ct.parent_id = pt.id\n",
    "WHERE\n",
    "    pt.id IS NULL;\n",
    "----------------------------------------------------------------------------------------\n",
    "--Logic: birth_date < admission_date < discharge_date, etc\n",
    "SELECT\n",
    "    *\n",
    "FROM\n",
    "    your_table_name\n",
    "WHERE\n",
    "    start_date_column > end_date_column; -- Identify records where end date is before start date"
   ]
  }
 ],
 "metadata": {
  "language_info": {
   "name": "python"
  }
 },
 "nbformat": 4,
 "nbformat_minor": 5
}
