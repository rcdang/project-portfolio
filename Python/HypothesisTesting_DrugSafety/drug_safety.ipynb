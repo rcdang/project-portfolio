{
 "cells": [
  {
   "cell_type": "markdown",
   "id": "59090772-03e5-4a43-a7c7-eebdfa709342",
   "metadata": {},
   "source": [
    "# Drug Safety Hypothesis Testing\n",
    "\n",
    "Introduction\\\n",
    "This is a follow-on analysis to the *Exploratory Analysis of Clinical Safety Data to Detect Safety Signals*, performed over 20 weeks by the Vanderbilt University School of Medicine, Department of Biostatistics, Nashville TN. In this analysis, multiple statistical tests (significance level= 0.05 ) were performed to confirm both the presence and number of adverse effects (AE) were not statistically different than the placebo. Additional tests were performed to evaluate quality of the sample groups across age and gender. The name of the actual drug tested was not stated in the original test report. \n",
    "\n",
    "Conclusions based upon the sample data:\n",
    "* There was not enough statistical evidence (Z= -0.045, p= 0.964) to suggest that there is a difference in proportion of AEs between drug and placebo groups.\n",
    "* There was not enough statistical evidence (p= 0.941) to suggest there is a difference in number of AEs between drug and placebo groups.\n",
    "* There was not enough statistical evidence (p= 0.257) to suggest there is a difference in ages between drug and placebo groups.\n",
    "* There was statistical  evidence (p= 0.003) to suggest there is a difference in gender between drug and placebo groups. Drug/Placebo for females: 2591/1183 = 2.2,  Drug/Placebo for males: 8135/4192 = 1.94\n",
    "* There was statistical  evidence (Chi^2: 22.208, p < 0.001) to suggest there is a difference in AEs between genders. \n",
    "* There was statistical  evidence (Z = 4.74, p < 0.001) to conclude that there is a difference in the proportion of adverse effects between females and males. Specifically, females showed 2.59% higher rate of adverse events with 11.52% females experiencing adverse effects compared to 8.93% in males. This correlates with the original test report stating \"Males less likely to have GI AE (OR = 0.58, P = 0.004)\". \n",
    "\n",
    "Discussion\\\n",
    "Although there is a statistical difference in AEs between genders, whether this is clinically significant would depend on the context of the drug and adverse effects. The tests only shows association, or correlation, and not necessarily causation that being female will result in more adverse effects. More testing would be needed to confirm. Despite statistically more females both receiving the drug and reacting to it, the drug in previous tests still did not produce statistically more adverse effects (with both genders grouped together). This leads to the recommendation that to improve future test quality, the ratio of drug/placebo administered should be the same across gender. \n",
    "\n",
    "\n",
    "\n",
    "\n",
    "\n",
    "\n",
    "[Original Study Report](https://hbiostat.org/talks/gsksafety.pdf)\n",
    "\n",
    "# The Dataset\n",
    "| Column | Description |\n",
    "|--------|-------------|\n",
    "|`sex` | The gender of the individual |\n",
    "|`age` | The age of the individual |\n",
    "|`week` | The week of the drug testing |\n",
    "|`trx` | The treatment (Drug) and control (Placebo) groups | \n",
    "|`wbc` | The count of white blood cells |\n",
    "|`rbc` | The count of red blood cells |\n",
    "|`adverse_effects` | The presence of at least a single adverse effect |\n",
    "|`num_effects` | The number of adverse effects experienced by a single individual |\n",
    "\n",
    "* Dataset used: drug_safety.csv, modified by DataCamp\n",
    "* [Original .rda dataset](https://hbiostat.org/data/repo/safety.rda), from Hbiostat.org courtesy of the Vanderbilt University School of Medicine, Department of Biostatistics, Nashville TN\n",
    "* [Hbiostat.org Related Datasets](https://hbiostat.org/data/)\n",
    "\n",
    "Adverse effects\n",
    "* headache\n",
    "* abdominal pain\n",
    "* dyspepsia\n",
    "* upper respiratory infection\n",
    "* chronic obstructive airway disease (COAD)"
   ]
  },
  {
   "cell_type": "code",
   "execution_count": 1,
   "id": "62dc2a93-8a9c-4757-8aac-214c5de63e74",
   "metadata": {
    "executionCancelledAt": null,
    "executionTime": 3551,
    "lastExecutedAt": 1698956356360,
    "lastScheduledRunId": null,
    "lastSuccessfullyExecutedCode": "# Import packages\nimport numpy as np\nimport pandas as pd\nfrom statsmodels.stats.proportion import proportions_ztest\nimport pingouin\nimport seaborn as sns\nimport matplotlib.pyplot as plt\n\n# Load the dataset\ndrug_safety = pd.read_csv(\"drug_safety.csv\")\n\n# Start coding here..."
   },
   "outputs": [],
   "source": [
    "import numpy as np\n",
    "import pandas as pd\n",
    "from statsmodels.stats.proportion import proportions_ztest\n",
    "import pingouin\n",
    "import seaborn as sns\n",
    "import matplotlib.pyplot as plt\n",
    "\n",
    "drug_safety = pd.read_csv(\"drug_safety.csv\")"
   ]
  },
  {
   "cell_type": "markdown",
   "id": "6fcbe3e3",
   "metadata": {},
   "source": [
    "Profiling"
   ]
  },
  {
   "cell_type": "code",
   "execution_count": 2,
   "id": "41e597fb",
   "metadata": {},
   "outputs": [
    {
     "name": "stdout",
     "output_type": "stream",
     "text": [
      "First 5 rows:\n",
      "    age   sex   trx  week  wbc  rbc adverse_effects  num_effects\n",
      "0   62  male  Drug     0  7.3  5.1              No            0\n",
      "1   62  male  Drug     1  NaN  NaN              No            0\n",
      "2   62  male  Drug    12  5.6  5.0              No            0\n",
      "3   62  male  Drug    16  NaN  NaN              No            0\n",
      "4   62  male  Drug     2  6.6  5.1              No            0\n",
      "\n",
      "Sample of Data:\n",
      "        age     sex      trx  week  wbc  rbc adverse_effects  num_effects\n",
      "12455   73    male     Drug    20  NaN  NaN              No            0\n",
      "396     42    male  Placebo    16  NaN  NaN              No            0\n",
      "13340   65  female     Drug     2  5.5  4.0              No            0\n",
      "6664    62    male  Placebo     2  6.7  4.6              No            0\n",
      "7837    82    male     Drug     1  NaN  NaN              No            0\n",
      "<class 'pandas.core.frame.DataFrame'>\n",
      "RangeIndex: 16103 entries, 0 to 16102\n",
      "Data columns (total 8 columns):\n",
      " #   Column           Non-Null Count  Dtype  \n",
      "---  ------           --------------  -----  \n",
      " 0   age              16103 non-null  int64  \n",
      " 1   sex              16103 non-null  object \n",
      " 2   trx              16103 non-null  object \n",
      " 3   week             16103 non-null  int64  \n",
      " 4   wbc              9128 non-null   float64\n",
      " 5   rbc              9127 non-null   float64\n",
      " 6   adverse_effects  16103 non-null  object \n",
      " 7   num_effects      16103 non-null  int64  \n",
      "dtypes: float64(2), int64(3), object(3)\n",
      "memory usage: 1006.6+ KB\n",
      "\n",
      "DataFrame Info:\n",
      " None\n",
      "\n",
      "Numerical Statistics:\n",
      "                 age         week          wbc          rbc   num_effects\n",
      "count  16103.000000  16103.00000  9128.000000  9127.000000  16103.000000\n",
      "mean      64.117556      7.74098     7.340557     4.672784      0.101596\n",
      "std        8.783207      6.94350     1.996652     0.458520      0.323181\n",
      "min       39.000000      0.00000     1.800000     2.100000      0.000000\n",
      "25%       58.000000      1.00000     6.000000     4.400000      0.000000\n",
      "50%       65.000000      4.00000     7.100000     4.700000      0.000000\n",
      "75%       71.000000     12.00000     8.400000     5.000000      0.000000\n",
      "max       84.000000     20.00000    26.500000     7.600000      3.000000\n",
      "\n",
      "Value Counts for sex:\n",
      " sex\n",
      "male      12328\n",
      "female     3775\n",
      "Name: count, dtype: int64\n",
      "\n",
      "Value Counts for trx:\n",
      " trx\n",
      "Drug       10727\n",
      "Placebo     5376\n",
      "Name: count, dtype: int64\n",
      "\n",
      "Value Counts for adverse_effects:\n",
      " adverse_effects\n",
      "No     14567\n",
      "Yes     1536\n",
      "Name: count, dtype: int64\n"
     ]
    }
   ],
   "source": [
    "# Display the first few rows\n",
    "print(\"First 5 rows:\\n\", drug_safety.head())\n",
    "\n",
    "# Random Sample\n",
    "print(\"\\nSample of Data:\\n\", drug_safety.sample(n=5))\n",
    "\n",
    "# Get a summary of the DataFrame, including data types and non-null counts\n",
    "print(\"\\nDataFrame Info:\\n\", drug_safety.info())\n",
    "\n",
    "# Get descriptive statistics for numerical columns\n",
    "print(\"\\nNumerical Statistics:\\n\", drug_safety.describe())\n",
    "\n",
    "# Get value counts for categorical columns to understand distributions\n",
    "for col in drug_safety.select_dtypes(include=['object', 'category']).columns:\n",
    "    print(f\"\\nValue Counts for {col}:\\n\", drug_safety[col].value_counts(dropna=False))"
   ]
  },
  {
   "cell_type": "markdown",
   "id": "a0c6c503",
   "metadata": {},
   "source": [
    "Cleaning"
   ]
  },
  {
   "cell_type": "code",
   "execution_count": 3,
   "id": "f31677c5",
   "metadata": {},
   "outputs": [
    {
     "name": "stdout",
     "output_type": "stream",
     "text": [
      "Missing Values:\n",
      " age                   0\n",
      "sex                   0\n",
      "trx                   0\n",
      "week                  0\n",
      "wbc                6975\n",
      "rbc                6976\n",
      "adverse_effects       0\n",
      "num_effects           0\n",
      "dtype: int64\n"
     ]
    }
   ],
   "source": [
    "# Identify missing values\n",
    "print(\"Missing Values:\\n\", drug_safety.isnull().sum())\n",
    "\n",
    "# Option 7: Flag missing values (create a new binary column)\n",
    "drug_safety['wbc_missing'] = drug_safety['wbc'].isnull().astype(int)\n",
    "drug_safety['rbc_missing'] = drug_safety['rbc'].isnull().astype(int)"
   ]
  },
  {
   "cell_type": "code",
   "execution_count": 4,
   "id": "836c80a4",
   "metadata": {},
   "outputs": [
    {
     "name": "stdout",
     "output_type": "stream",
     "text": [
      "Number of duplicate rows: 5791\n",
      "\n",
      "Duplicate Rows:\n",
      "        age   sex      trx  week  wbc  rbc adverse_effects  num_effects  \\\n",
      "1       62  male     Drug     1  NaN  NaN              No            0   \n",
      "3       62  male     Drug    16  NaN  NaN              No            0   \n",
      "5       62  male     Drug    20  NaN  NaN             Yes            1   \n",
      "9       69  male     Drug     1  NaN  NaN              No            0   \n",
      "11      69  male     Drug    16  NaN  NaN              No            0   \n",
      "...    ...   ...      ...   ...  ...  ...             ...          ...   \n",
      "16087   58  male  Placebo    16  NaN  NaN             Yes            1   \n",
      "16089   58  male  Placebo    20  NaN  NaN             Yes            1   \n",
      "16093   68  male     Drug     1  NaN  NaN             Yes            1   \n",
      "16094   68  male     Drug     2  NaN  NaN              No            0   \n",
      "16100   78  male  Placebo    20  NaN  NaN             Yes            1   \n",
      "\n",
      "       wbc_missing  rbc_missing  \n",
      "1                1            1  \n",
      "3                1            1  \n",
      "5                1            1  \n",
      "9                1            1  \n",
      "11               1            1  \n",
      "...            ...          ...  \n",
      "16087            1            1  \n",
      "16089            1            1  \n",
      "16093            1            1  \n",
      "16094            1            1  \n",
      "16100            1            1  \n",
      "\n",
      "[6697 rows x 10 columns]\n"
     ]
    }
   ],
   "source": [
    "# Identify duplicate rows\n",
    "print(\"Number of duplicate rows:\", drug_safety.duplicated().sum())\n",
    "\n",
    "# View duplicate rows\n",
    "print(\"\\nDuplicate Rows:\\n\", drug_safety[drug_safety.duplicated(keep=False)]) # keep=False shows all duplicates\n",
    "\n",
    "# duplicate rows determined to be acceptable for subjects with same demographics, trx, and results "
   ]
  },
  {
   "cell_type": "code",
   "execution_count": 5,
   "id": "3287164f",
   "metadata": {},
   "outputs": [
    {
     "name": "stdout",
     "output_type": "stream",
     "text": [
      "\n",
      "Current Data Types:\n",
      " age                  int64\n",
      "sex                 object\n",
      "trx                 object\n",
      "week                 int64\n",
      "wbc                float64\n",
      "rbc                float64\n",
      "adverse_effects     object\n",
      "num_effects          int64\n",
      "wbc_missing          int32\n",
      "rbc_missing          int32\n",
      "dtype: object\n",
      "\n",
      "Updated Data Types:\n",
      " age                   int64\n",
      "sex                category\n",
      "trx                category\n",
      "week                  int64\n",
      "wbc                 float64\n",
      "rbc                 float64\n",
      "adverse_effects     boolean\n",
      "num_effects           int64\n",
      "wbc_missing           int32\n",
      "rbc_missing           int32\n",
      "dtype: object\n"
     ]
    }
   ],
   "source": [
    "# Improving data types for analysis\n",
    "\n",
    "print(\"\\nCurrent Data Types:\\n\", drug_safety.dtypes)\n",
    "\n",
    "drug_safety['sex'] = drug_safety['sex'].astype('category')\n",
    "drug_safety['trx'] = drug_safety['trx'].astype('category')\n",
    "drug_safety['adverse_effects'] = \\\n",
    "drug_safety['adverse_effects'].str.lower().str.strip().map({'no': False, 'yes':True}).astype('boolean')\n",
    "\n",
    "print(\"\\nUpdated Data Types:\\n\", drug_safety.dtypes)\n",
    "\n"
   ]
  },
  {
   "cell_type": "code",
   "execution_count": 6,
   "id": "d60c112a",
   "metadata": {},
   "outputs": [
    {
     "name": "stdout",
     "output_type": "stream",
     "text": [
      "\n",
      "Outliers in wbc:\n",
      "        age   sex      trx  week   wbc  rbc  adverse_effects  num_effects  \\\n",
      "68      60  male  Placebo     2  12.7  4.9            False            0   \n",
      "71      60  male  Placebo     8  12.9  4.8            False            0   \n",
      "135     74  male     Drug     2  14.0  5.4             True            1   \n",
      "137     74  male     Drug     4  15.5  5.7            False            0   \n",
      "199     76  male     Drug     2  13.2  4.3            False            0   \n",
      "...    ...   ...      ...   ...   ...  ...              ...          ...   \n",
      "15924   65  male  Placebo     0  12.4  4.9            False            0   \n",
      "15928   65  male  Placebo     2  13.8  5.1            False            0   \n",
      "15931   65  male  Placebo     8  12.3  4.8             True            1   \n",
      "15950   56  male     Drug    12  13.9  5.1             True            1   \n",
      "16019   70  male  Placebo     8  14.0  4.9             True            1   \n",
      "\n",
      "       wbc_missing  rbc_missing  \n",
      "68               0            0  \n",
      "71               0            0  \n",
      "135              0            0  \n",
      "137              0            0  \n",
      "199              0            0  \n",
      "...            ...          ...  \n",
      "15924            0            0  \n",
      "15928            0            0  \n",
      "15931            0            0  \n",
      "15950            0            0  \n",
      "16019            0            0  \n",
      "\n",
      "[247 rows x 10 columns]\n"
     ]
    },
    {
     "data": {
      "image/png": "[encoded data removed]",
      "text/plain": [
       "<Figure size 511.111x500 with 1 Axes>"
      ]
     },
     "metadata": {},
     "output_type": "display_data"
    }
   ],
   "source": [
    "# For numerical columns, using IQR (Interquartile Range) method to identify outliers in white blood cell count\n",
    "Q1 = drug_safety['wbc'].quantile(0.25)\n",
    "Q3 = drug_safety['wbc'].quantile(0.75)\n",
    "IQR = Q3 - Q1\n",
    "lower_bound = Q1 - 1.5 * IQR\n",
    "upper_bound = Q3 + 1.5 * IQR\n",
    "\n",
    "# Identify outliers, wbc was chosen for its larger standard deviation\n",
    "outliers = drug_safety[(drug_safety['wbc'] < lower_bound) | (drug_safety['wbc'] > upper_bound)]\n",
    "print(\"\\nOutliers in wbc:\\n\", outliers)\n",
    "\n",
    "sns.catplot(kind='box', data=drug_safety, y='wbc') \n",
    "plt.title('White Blood Cell Count')\n",
    "plt.show()\n",
    "\n",
    "# outliers determined to be left in dataset"
   ]
  },
  {
   "cell_type": "markdown",
   "id": "a30c84f8",
   "metadata": {},
   "source": [
    "Verify cleaned"
   ]
  },
  {
   "cell_type": "code",
   "execution_count": 7,
   "id": "7d92debc",
   "metadata": {},
   "outputs": [
    {
     "name": "stdout",
     "output_type": "stream",
     "text": [
      "<class 'pandas.core.frame.DataFrame'>\n",
      "RangeIndex: 16103 entries, 0 to 16102\n",
      "Data columns (total 10 columns):\n",
      " #   Column           Non-Null Count  Dtype   \n",
      "---  ------           --------------  -----   \n",
      " 0   age              16103 non-null  int64   \n",
      " 1   sex              16103 non-null  category\n",
      " 2   trx              16103 non-null  category\n",
      " 3   week             16103 non-null  int64   \n",
      " 4   wbc              9128 non-null   float64 \n",
      " 5   rbc              9127 non-null   float64 \n",
      " 6   adverse_effects  16103 non-null  boolean \n",
      " 7   num_effects      16103 non-null  int64   \n",
      " 8   wbc_missing      16103 non-null  int32   \n",
      " 9   rbc_missing      16103 non-null  int32   \n",
      "dtypes: boolean(1), category(2), float64(2), int32(2), int64(3)\n",
      "memory usage: 818.1 KB\n",
      "\n",
      "Cleaned DataFrame Info:\n",
      " None\n",
      "\n",
      "Cleaned Numerical Statistics:\n",
      "                 age         week          wbc          rbc   num_effects  \\\n",
      "count  16103.000000  16103.00000  9128.000000  9127.000000  16103.000000   \n",
      "mean      64.117556      7.74098     7.340557     4.672784      0.101596   \n",
      "std        8.783207      6.94350     1.996652     0.458520      0.323181   \n",
      "min       39.000000      0.00000     1.800000     2.100000      0.000000   \n",
      "25%       58.000000      1.00000     6.000000     4.400000      0.000000   \n",
      "50%       65.000000      4.00000     7.100000     4.700000      0.000000   \n",
      "75%       71.000000     12.00000     8.400000     5.000000      0.000000   \n",
      "max       84.000000     20.00000    26.500000     7.600000      3.000000   \n",
      "\n",
      "        wbc_missing   rbc_missing  \n",
      "count  16103.000000  16103.000000  \n",
      "mean       0.433149      0.433211  \n",
      "std        0.495526      0.495535  \n",
      "min        0.000000      0.000000  \n",
      "25%        0.000000      0.000000  \n",
      "50%        0.000000      0.000000  \n",
      "75%        1.000000      1.000000  \n",
      "max        1.000000      1.000000  \n",
      "\n",
      "Missing Values After Cleaning:\n",
      " age                   0\n",
      "sex                   0\n",
      "trx                   0\n",
      "week                  0\n",
      "wbc                6975\n",
      "rbc                6976\n",
      "adverse_effects       0\n",
      "num_effects           0\n",
      "wbc_missing           0\n",
      "rbc_missing           0\n",
      "dtype: int64\n",
      "\n",
      "Number of Duplicate Rows After Cleaning: 5791\n",
      "\n",
      "Sample of Cleaned Data:\n",
      "        age     sex      trx  week  wbc  rbc  adverse_effects  num_effects  \\\n",
      "14432   42    male  Placebo     0  7.0  5.1            False            0   \n",
      "12980   67    male     Drug     1  NaN  NaN            False            0   \n",
      "14743   69  female     Drug     8  5.6  4.8            False            0   \n",
      "10354   72    male     Drug    12  4.7  4.9            False            0   \n",
      "15974   50    male     Drug    12  6.6  5.0            False            0   \n",
      "\n",
      "       wbc_missing  rbc_missing  \n",
      "14432            0            0  \n",
      "12980            1            1  \n",
      "14743            0            0  \n",
      "10354            0            0  \n",
      "15974            0            0  \n",
      "\n",
      "Value Counts for sex:\n",
      " sex\n",
      "male      12328\n",
      "female     3775\n",
      "Name: count, dtype: int64\n",
      "\n",
      "Value Counts for trx:\n",
      " trx\n",
      "Drug       10727\n",
      "Placebo     5376\n",
      "Name: count, dtype: int64\n"
     ]
    }
   ],
   "source": [
    "# Re-run descriptive statistics and info\n",
    "print(\"\\nCleaned DataFrame Info:\\n\", drug_safety.info())\n",
    "print(\"\\nCleaned Numerical Statistics:\\n\", drug_safety.describe())\n",
    "\n",
    "# Check for remaining missing values or duplicates\n",
    "print(\"\\nMissing Values After Cleaning:\\n\", drug_safety.isna().sum())\n",
    "print(\"\\nNumber of Duplicate Rows After Cleaning:\", drug_safety.duplicated().sum())\n",
    "\n",
    "# Sample the cleaned data to visually inspect\n",
    "print(\"\\nSample of Cleaned Data:\\n\", drug_safety.sample(5))\n",
    "\n",
    "# Distinctness check for categorical columns \n",
    "for col in drug_safety.select_dtypes(include=['object', 'category']).columns:\n",
    "    print(f\"\\nValue Counts for {col}:\\n\", drug_safety[col].value_counts(dropna=False))"
   ]
  },
  {
   "cell_type": "markdown",
   "id": "fe8ca7a9",
   "metadata": {},
   "source": [
    "Terminology\n",
    "The z-statistic: Based on the sample, how many standard deviations your observed result is from what you'd expect if there was no difference\\\n",
    "The P-value: Based on the sample, is the probability of seeing the result as extreme if there truly were no effect or difference in the real world\n",
    "\n",
    "---"
   ]
  },
  {
   "cell_type": "markdown",
   "id": "b8c5ae50",
   "metadata": {},
   "source": [
    "Does the proportion of adverse effects differ significantly between the Drug and Placebo groups?\n",
    "\n",
    "* Null: placebo adverse effects - drug adverse effects = 0\n",
    "* Alternate: placebo adverse effects - drug adverse effects != 0\n",
    "\n",
    "Comparing two proportions: 2 Sample Proportion Z-test\n",
    "\n",
    "Assumptions\n",
    "* Random Samples: Both samples drawn independently and randomly \n",
    "* Independence of Observations: outcomes for individual subjects within each sample are independent of each other. Selection of subjects for one group are also not affected by selections of subjects for the other group. \n",
    "* Categorical Data with two outcomes: \"success/failure\" or \"True/False\"\n",
    "* Large enough sample sizes for normality: # successes >= 10 and # failures >= 10 for difference in sample proportions to approximate normal \n",
    "\n",
    "Conclusion\\\n",
    "Based on the sample data, there was not enough statistically significant evidence (Z= -0.045, p= 0.964) to suggest that the drug causes a different proportion of adverse events compared to the placebo. While the drug group showed a slightly higher rate of adverse events, this difference is so small that it's likely just random noise and not a real effect of the drug."
   ]
  },
  {
   "cell_type": "code",
   "execution_count": 8,
   "id": "d6a87453",
   "metadata": {},
   "outputs": [
    {
     "name": "stdout",
     "output_type": "stream",
     "text": [
      "adverse_effects  False  True  total_obs\n",
      "trx                                    \n",
      "Drug              9703  1024      10727\n",
      "Placebo           4864   512       5376\n",
      "-0.0452182684494942 0.9639333330262475\n"
     ]
    },
    {
     "name": "stderr",
     "output_type": "stream",
     "text": [
      "C:\\Users\\rcdan\\AppData\\Local\\Temp\\ipykernel_20720\\55448343.py:2: FutureWarning: The default of observed=False is deprecated and will be changed to True in a future version of pandas. Pass observed=False to retain current behavior or observed=True to adopt the future default and silence this warning.\n",
      "  adverse_effects_by_trx = drug_safety.groupby('trx')['adverse_effects'].value_counts()\n"
     ]
    }
   ],
   "source": [
    "\n",
    "# gather counts for proportions\n",
    "adverse_effects_by_trx = drug_safety.groupby('trx')['adverse_effects'].value_counts()\n",
    "adverse_effects_by_trx = adverse_effects_by_trx.unstack(fill_value=0)\n",
    "adverse_effects_by_trx['total_obs'] = adverse_effects_by_trx.sum(axis=1)\n",
    "\n",
    "print(adverse_effects_by_trx)\n",
    "\n",
    "# responses defined as adverse effect = True and formatted [placebo, drug]\n",
    "responses = [512,1024]\n",
    "observations = [5376,10727]\n",
    "\n",
    "two_sample_z_statistic, two_sample_p_value = proportions_ztest(responses,observations,alternative='two-sided')\n",
    "print(two_sample_z_statistic, two_sample_p_value)"
   ]
  },
  {
   "cell_type": "markdown",
   "id": "3084175f",
   "metadata": {},
   "source": [
    "---\n",
    "Is there a statistically significant difference in the number of adverse effects between the drug and placebo groups?\n",
    "\n",
    "* Null: No difference in number of adverse effects between drug and placebo groups\n",
    "* Alternative: There is a difference in number of adverse effects between drug and placebo groups\n",
    "\n",
    "Categorical, Ordinal/Continuous Data: Mann-Whitney U Test/Wilcoxon Rank-Sum Test\\\n",
    "Used to compare two independent groups with an ordinal or continuous outcome. Treat \"num_effects\" as an ordinal score for each patient.\n",
    "Compares the ranks of the observations from the two groups. It tests if one group tends to have higher (or lower) ranks than the other.\n",
    "\n",
    "Assumptions for Mann-Whitney U Test/Wilcoxon Rank-Sum Test\n",
    "* Independent, random samples: Selection of subjects for one group are also not affected by selections of subjects for the other group. \n",
    "* Ordinal or continuous data\n",
    "* Note- non-parametric test (doesn't assume normality)\n",
    "\n",
    "Conclusion\\\n",
    "Based upon the sample data, was not enough statistical evidence (p= 0.941) to suggest there is a difference in number of adverse effects between drug and placebo groups."
   ]
  },
  {
   "cell_type": "code",
   "execution_count": 9,
   "id": "19f704e5",
   "metadata": {},
   "outputs": [
    {
     "name": "stdout",
     "output_type": "stream",
     "text": [
      "          U-val alternative     p-val       RBC      CLES\n",
      "MWU  28844703.0   two-sided  0.940732  0.000365  0.500183\n"
     ]
    }
   ],
   "source": [
    "# Subset data for groups\n",
    "drug_group = drug_safety[drug_safety['trx'] == 'Drug']['num_effects']\n",
    "placebo_group = drug_safety[drug_safety['trx'] == 'Placebo']['num_effects']\n",
    "\n",
    "mwu_results_trx = pingouin.mwu(x=drug_group, y=placebo_group, alternative='two-sided')\n",
    "print(mwu_results_trx)"
   ]
  },
  {
   "cell_type": "markdown",
   "id": "60331f12",
   "metadata": {},
   "source": [
    "---\n",
    "Is there is a statistically significant difference in the ages between the drug and placebo groups?\\\n",
    "Is age a confounding variable?\n",
    "\n",
    "* Null: No difference in age between drug and placebo groups\n",
    "* Alternative: There is a difference in age between drug and placebo \n",
    "\n",
    "Categorical, Ordinal/Continuous Data: Mann-Whitney U Test/Wilcoxon Rank-Sum Test\n",
    "\n",
    "Conclusion\\\n",
    "Based upon the sample data, there was not enough statistical evidence (p= 0.257) to suggest there is a difference in ages between drug and placebo groups."
   ]
  },
  {
   "cell_type": "code",
   "execution_count": 10,
   "id": "7b334fe5",
   "metadata": {},
   "outputs": [
    {
     "data": {
      "image/png": "[encoded data removed]",
      "text/plain": [
       "<Figure size 640x480 with 1 Axes>"
      ]
     },
     "metadata": {},
     "output_type": "display_data"
    },
    {
     "name": "stdout",
     "output_type": "stream",
     "text": [
      "          U-val alternative     p-val      RBC      CLES\n",
      "MWU  29149339.5   two-sided  0.256963  0.01093  0.505465\n"
     ]
    }
   ],
   "source": [
    "\n",
    "# subsetting data into groups\n",
    "drug_group_ages = drug_safety[drug_safety['trx'] == 'Drug']['age']\n",
    "placebo_group_ages = drug_safety[drug_safety['trx'] == 'Placebo']['age']\n",
    "\n",
    "sns.boxplot(data=drug_safety, x='trx',y='age',order=['Placebo','Drug'])\n",
    "plt.title('Age by Treatment Group')\n",
    "plt.show()\n",
    "\n",
    "# Mann-Whitney U Test/Wilcoxon Rank-Sum Test\n",
    "mwu_results_ages = pingouin.mwu(x=drug_group_ages, y=placebo_group_ages, alternative='two-sided')\n",
    "print(mwu_results_ages)\n",
    "age_group_effects_p_value = mwu_results_ages['p-val'].iloc[0]"
   ]
  },
  {
   "cell_type": "markdown",
   "id": "e10d42a7",
   "metadata": {},
   "source": [
    "---\n",
    "Is there a statistical significant difference in gender between drug and placebo groups? \n",
    "Is gender a confounding variable?\n",
    "\n",
    "* Null: No difference in gender between drug group and placebo group\n",
    "* Alternative: There is a difference in gender between drug group and placebo group\n",
    "\n",
    "Categorical Data: Chi-Squared Test\\\n",
    "It tests for an association or independence between two categorical variables, rather than comparing means or medians of numerical data. The Chi-squared test compares observed frequencies with the expected frequencies.\n",
    "\n",
    "Assumptions for Chi-Squared Test\n",
    "* Random Samples: Observations are a random sample from population, patient's assigned independently \n",
    "* Independence of Observations: patient's outcomes should be independent of other patient's outcomes\n",
    "* Expected Frequencies: each cell of frequency table is >= 5\n",
    "* Note- non-parametric test (doesn't assume normality)\n",
    "\n",
    "Conclusion\\\n",
    "Based upon the sample data, there was statistical  evidence (p= 0.003) to suggest there is a difference in gender between drug and placebo groups. Drug/Placebo for females: 2591/1183 = 2.2,  Drug/Placebo for males: 8135/4192 = 1.94.\n",
    "\n",
    "Recommendation: equal drug/placebo ratio needed for each gender to eliminate presence of confounding variable. Run Chi-Squared to see if difference in adverse effects between genders"
   ]
  },
  {
   "cell_type": "code",
   "execution_count": 11,
   "id": "773a2d2b",
   "metadata": {},
   "outputs": [
    {
     "data": {
      "image/png": "[encoded data removed]",
      "text/plain": [
       "<Figure size 640x480 with 1 Axes>"
      ]
     },
     "metadata": {},
     "output_type": "display_data"
    }
   ],
   "source": [
    "# Exploratory Analysis: Raw counts \n",
    "sns.countplot(data=drug_safety, x='sex',hue='trx',hue_order=['Placebo','Drug'])\n",
    "plt.title('Assigned Treatment Group Count by Gender')\n",
    "plt.show()"
   ]
  },
  {
   "cell_type": "code",
   "execution_count": 12,
   "id": "8d39a6d7",
   "metadata": {},
   "outputs": [
    {
     "name": "stdout",
     "output_type": "stream",
     "text": [
      "sex           female         male\n",
      "trx                              \n",
      "Drug     2514.713097  8212.286903\n",
      "Placebo  1260.286903  4115.713097 sex      female    male\n",
      "trx                    \n",
      "Drug     2591.5  8135.5\n",
      "Placebo  1183.5  4192.5                  test    lambda      chi2  dof      pval    cramer     power\n",
      "0             pearson  1.000000  9.173764  1.0  0.002455  0.023868  0.857434\n",
      "1        cressie-read  0.666667  9.196020  1.0  0.002425  0.023897  0.858259\n",
      "2      log-likelihood  0.000000  9.241700  1.0  0.002366  0.023956  0.859941\n",
      "3       freeman-tukey -0.500000  9.276997  1.0  0.002320  0.024002  0.861228\n",
      "4  mod-log-likelihood -1.000000  9.313198  1.0  0.002275  0.024049  0.862537\n",
      "5              neyman -2.000000  9.388373  1.0  0.002184  0.024146  0.865221\n",
      "0.0024550912316262507\n"
     ]
    }
   ],
   "source": [
    "expected_gender, observed_gender, stats_gender = pingouin.chi2_independence(data=drug_safety, x='trx',y='sex')\n",
    "print(expected_gender, observed_gender, stats_gender)\n",
    "\n",
    "gender_p_value = stats_gender['pval'].iloc[0]\n",
    "print(gender_p_value)"
   ]
  },
  {
   "cell_type": "markdown",
   "id": "e00d8479",
   "metadata": {},
   "source": [
    "---\n",
    "Is there a statistically significant difference in the presence of adverse effects between gender?\n",
    "\n",
    "* Null: No difference in adverse effects between gender\n",
    "* Alternative: There is a difference in adverse effects between gender\n",
    "\n",
    "Categorical Data: Chi-Squared Test\\\n",
    "It tests for an association or independence between two categorical variables, rather than comparing means or medians of numerical data. The Chi-squared test compares observed frequencies with the expected frequencies.\n",
    "\n",
    "Conclusion\\\n",
    "Based upon the sample data, There was statistical  evidence (Chi^2: 22.208, p < 0.001) to suggest there is a difference in adverse effects between genders. \n",
    "\n",
    "Recommendation: Run 2-sample proportions verify and to see magnitude of difference."
   ]
  },
  {
   "cell_type": "code",
   "execution_count": 13,
   "id": "de41e2c3",
   "metadata": {},
   "outputs": [
    {
     "name": "stdout",
     "output_type": "stream",
     "text": [
      "adverse_effects         False        True \n",
      "sex                                       \n",
      "female            3414.918028   360.081972\n",
      "male             11152.081972  1175.918028 adverse_effects    False   True \n",
      "sex                             \n",
      "female            3340.5   434.5\n",
      "male             11226.5  1101.5                  test    lambda       chi2  dof      pval    cramer     power\n",
      "0             pearson  1.000000  22.207812  1.0  0.000002  0.037136  0.997043\n",
      "1        cressie-read  0.666667  21.914284  1.0  0.000003  0.036890  0.996749\n",
      "2      log-likelihood  0.000000  21.359255  1.0  0.000004  0.036420  0.996112\n",
      "3       freeman-tukey -0.500000  20.969533  1.0  0.000005  0.036086  0.995594\n",
      "4  mod-log-likelihood -1.000000  20.601251  1.0  0.000006  0.035768  0.995044\n",
      "5              neyman -2.000000  19.924661  1.0  0.000008  0.035176  0.993856\n",
      "2.4467622964249306e-06\n"
     ]
    }
   ],
   "source": [
    "expected_gender_ae, observed_gender_ae, stats_gender_ae = pingouin.chi2_independence(data=drug_safety, x='sex',y='adverse_effects')\n",
    "print(expected_gender_ae, observed_gender_ae, stats_gender_ae)\n",
    "\n",
    "gender_ae_p_value = stats_gender_ae['pval'].iloc[0]\n",
    "print(gender_ae_p_value)"
   ]
  },
  {
   "cell_type": "markdown",
   "id": "6dacafac",
   "metadata": {},
   "source": [
    "---\n",
    "Is there a statistically significant difference in proportion of adverse effects between gender?\n",
    "* Null: proportion of adverse effects in females - proportion of adverse effects in males = 0\n",
    "* Alternative: proportion of adverse effects in females - proportion of adverse effects in males != 0\n",
    "\n",
    "Comparing two proportions: 2 Sample Proportion Z-test\n",
    "\n",
    "Conclusion\\\n",
    "Based on the sample data, there was statistical  evidence (Z = 4.74, p-value < 0.001) to conclude that there is a difference in the proportion of adverse effects between females and males. Specifically, females showed 2.59% higher rate of adverse events with 11.52% females experiencing adverse effects compared to 8.93% in males. Although there is a statistical difference, whether this is clinically significant would depend on the context of the drug and adverse effects. The test only shows association, or correlation, and not necessarily causation that being female will result in more adverse effects. More testing would be needed to confirm. Despite statistically more females both receiving the drug and reacting to it, the drug in previous tests still did not show to produce statistically more adverse effects. This leads to the conclusions that 1. based upon the sample data, the drug is safe with respect to adverse effects, but 2. To improve future test quality, the ratio of drug/placebo should be the same across gender. "
   ]
  },
  {
   "cell_type": "code",
   "execution_count": 14,
   "id": "ab01a12d",
   "metadata": {},
   "outputs": [
    {
     "name": "stdout",
     "output_type": "stream",
     "text": [
      "adverse_effects  False  True  total_obs\n",
      "sex                                    \n",
      "female            3340   435       3775\n",
      "male             11227  1101      12328\n",
      "4.744178992994354 2.0935367516181726e-06\n"
     ]
    },
    {
     "name": "stderr",
     "output_type": "stream",
     "text": [
      "C:\\Users\\rcdan\\AppData\\Local\\Temp\\ipykernel_20720\\733511195.py:1: FutureWarning: The default of observed=False is deprecated and will be changed to True in a future version of pandas. Pass observed=False to retain current behavior or observed=True to adopt the future default and silence this warning.\n",
      "  adverse_effects_by_gender = drug_safety.groupby('sex')['adverse_effects'].value_counts()\n"
     ]
    }
   ],
   "source": [
    "adverse_effects_by_gender = drug_safety.groupby('sex')['adverse_effects'].value_counts()\n",
    "adverse_effects_by_gender = adverse_effects_by_gender.unstack(fill_value=0)\n",
    "adverse_effects_by_gender['total_obs'] = adverse_effects_by_gender.sum(axis=1)\n",
    "\n",
    "print(adverse_effects_by_gender)\n",
    "\n",
    "# [female, male]\n",
    "responses_gender = [435,1101]\n",
    "observations_gender = [3775,12328]\n",
    "\n",
    "two_sample_z_statistic_gender, two_sample_p_value_gender = proportions_ztest(responses_gender,observations_gender,alternative='two-sided')\n",
    "print(two_sample_z_statistic_gender, two_sample_p_value_gender)"
   ]
  }
 ],
 "metadata": {
  "colab": {
   "name": "Welcome to DataCamp Workspaces.ipynb",
   "provenance": []
  },
  "kernelspec": {
   "display_name": "base",
   "language": "python",
   "name": "python3"
  },
  "language_info": {
   "codemirror_mode": {
    "name": "ipython",
    "version": 3
   },
   "file_extension": ".py",
   "mimetype": "text/x-python",
   "name": "python",
   "nbconvert_exporter": "python",
   "pygments_lexer": "ipython3",
   "version": "3.12.3"
  }
 },
 "nbformat": 4,
 "nbformat_minor": 5
}
